{
 "cells": [
  {
   "cell_type": "code",
   "execution_count": null,
   "id": "152da43b-6b58-45f8-94cb-4b40bcf5417f",
   "metadata": {},
   "outputs": [],
   "source": [
    "import pandas as pd\n",
    "import numpy as np"
   ]
  },
  {
   "cell_type": "code",
   "execution_count": null,
   "id": "3df41ca6-abea-4e6c-b6ac-fbac561d3c85",
   "metadata": {},
   "outputs": [],
   "source": [
    "from sklearn.model_selection import train_test_split, GridSearchCV\n",
    "from sklearn.preprocessing import StandardScaler, OneHotEncoder\n",
    "from sklearn.compose import ColumnTransformer\n",
    "from sklearn.pipeline import Pipeline\n",
    "from sklearn.impute import SimpleImputer\n",
    "from sklearn.ensemble import RandomForestClassifier\n",
    "from sklearn.metrics import roc_auc_score"
   ]
  },
  {
   "cell_type": "code",
   "execution_count": null,
   "id": "6a85754b-4558-452e-b15f-5ee73b654e95",
   "metadata": {},
   "outputs": [],
   "source": [
    "train_features = pd.read_csv(\"training_set_features.csv\")"
   ]
  },
  {
   "cell_type": "code",
   "execution_count": null,
   "id": "c0fda3f0-1175-4505-a243-e9ffc66362dd",
   "metadata": {},
   "outputs": [],
   "source": [
    "train_labels = pd.read_csv(\"training_set_labels.csv\")"
   ]
  },
  {
   "cell_type": "code",
   "execution_count": null,
   "id": "f4667d5d-6835-478c-a8b2-ca7aee3fb501",
   "metadata": {},
   "outputs": [],
   "source": [
    "test_features = pd.read_csv(\"test_set_features.csv\")"
   ]
  },
  {
   "cell_type": "code",
   "execution_count": null,
   "id": "56d5183a-4b18-4a80-9e7c-13ac66cdcd61",
   "metadata": {},
   "outputs": [],
   "source": [
    "train_data = pd.merge(train_features, train_labels, on='respondent_id')"
   ]
  },
  {
   "cell_type": "code",
   "execution_count": null,
   "id": "83ae3af6-1a66-44b6-9a52-b15418f28f08",
   "metadata": {},
   "outputs": [],
   "source": [
    "X = train_data.drop(columns=['xyz_vaccine', 'seasonal_vaccine', 'respondent_id'])"
   ]
  },
  {
   "cell_type": "code",
   "execution_count": null,
   "id": "4f3d3bf4-b138-4498-a130-320e7e3fde89",
   "metadata": {},
   "outputs": [],
   "source": [
    "y_xyz = train_data['xyz_vaccine']\n",
    "y_seasonal = train_data['seasonal_vaccine']"
   ]
  },
  {
   "cell_type": "code",
   "execution_count": null,
   "id": "a3458b5a-aef3-4963-869a-fbcf8c169247",
   "metadata": {},
   "outputs": [],
   "source": [
    "test_data = test_features.drop(columns=['respondent_id'])"
   ]
  },
  {
   "cell_type": "code",
   "execution_count": null,
   "id": "c4969d86-5757-47d2-a5fe-c7b90ce19302",
   "metadata": {},
   "outputs": [],
   "source": [
    "categorical_features = X.select_dtypes(include=['object']).columns.tolist()\n",
    "numerical_features = X.select_dtypes(include=[np.number]).columns.tolist()"
   ]
  },
  {
   "cell_type": "code",
   "execution_count": null,
   "id": "bba9816a-0d3e-47b8-af90-f5bf978be676",
   "metadata": {},
   "outputs": [],
   "source": [
    "categorical_transformer = Pipeline(steps=[\n",
    "    ('imputer', SimpleImputer(strategy='most_frequent')),\n",
    "    ('onehot', OneHotEncoder(handle_unknown='ignore'))\n",
    "])"
   ]
  },
  {
   "cell_type": "code",
   "execution_count": null,
   "id": "4672159e-1c9b-4040-b719-d48d012bf8dd",
   "metadata": {},
   "outputs": [],
   "source": [
    "numerical_transformer = Pipeline(steps=[\n",
    "    ('imputer', SimpleImputer(strategy='mean')),\n",
    "    ('scaler', StandardScaler())\n",
    "])"
   ]
  },
  {
   "cell_type": "code",
   "execution_count": null,
   "id": "34eb32be-12be-4832-812d-431355fcf5ce",
   "metadata": {},
   "outputs": [],
   "source": [
    "preprocessor = ColumnTransformer(\n",
    "    transformers=[\n",
    "        ('num', numerical_transformer, numerical_features),\n",
    "        ('cat', categorical_transformer, categorical_features)\n",
    "    ])"
   ]
  },
  {
   "cell_type": "code",
   "execution_count": null,
   "id": "9a7583b5-1221-4204-8e6f-289f0111227a",
   "metadata": {},
   "outputs": [],
   "source": [
    "model = Pipeline(steps=[\n",
    "    ('preprocessor', preprocessor),\n",
    "    ('classifier', RandomForestClassifier())\n",
    "])"
   ]
  },
  {
   "cell_type": "code",
   "execution_count": null,
   "id": "31769e13-db6c-44d8-83ba-714638bc35e7",
   "metadata": {},
   "outputs": [],
   "source": [
    "X_train, X_val, y_train_xyz, y_val_xyz, y_train_seasonal, y_val_seasonal = train_test_split(X, y_xyz, y_seasonal, test_size=0.2, random_state=42)"
   ]
  },
  {
   "cell_type": "code",
   "execution_count": null,
   "id": "24460fb2-317d-423e-bd88-b5e8fcd061ac",
   "metadata": {},
   "outputs": [],
   "source": [
    "model.fit(X_train, y_train_xyz)"
   ]
  },
  {
   "cell_type": "code",
   "execution_count": null,
   "id": "583ca4a2-e5c8-4d37-aafa-d055f456b26a",
   "metadata": {},
   "outputs": [],
   "source": [
    "y_pred_xyz = model.predict_proba(X_val)[:, 1]\n",
    "roc_auc_xyz = roc_auc_score(y_val_xyz, y_pred_xyz)"
   ]
  },
  {
   "cell_type": "code",
   "execution_count": null,
   "id": "5070ef14-ee48-4c30-b36f-64fe780856c9",
   "metadata": {},
   "outputs": [],
   "source": [
    "print(f'ROC AUC for xyz_vaccine: {roc_auc_xyz}')"
   ]
  },
  {
   "cell_type": "code",
   "execution_count": null,
   "id": "aa988301-70d4-4daf-be06-3d393a342797",
   "metadata": {},
   "outputs": [],
   "source": [
    "model.fit(X_train, y_train_seasonal)"
   ]
  },
  {
   "cell_type": "code",
   "execution_count": null,
   "id": "d6e0470d-83df-4d1e-b3eb-58f9f5d23a93",
   "metadata": {},
   "outputs": [],
   "source": [
    "y_pred_seasonal = model.predict_proba(X_val)[:, 1]\n",
    "roc_auc_seasonal = roc_auc_score(y_val_seasonal, y_pred_seasonal)"
   ]
  },
  {
   "cell_type": "code",
   "execution_count": null,
   "id": "6aa51ec3-78c3-4225-ade2-7c4ceb3614eb",
   "metadata": {},
   "outputs": [],
   "source": [
    "print(f'ROC AUC for seasonal_vaccine: {roc_auc_seasonal}')"
   ]
  },
  {
   "cell_type": "code",
   "execution_count": null,
   "id": "053e9fee-37f6-482c-878e-683d9f53f8cc",
   "metadata": {},
   "outputs": [],
   "source": [
    "model.fit(X, y_xyz)\n",
    "test_pred_xyz = model.predict_proba(test_data)[:, 1]"
   ]
  },
  {
   "cell_type": "code",
   "execution_count": null,
   "id": "c74101cc-fa85-40f6-9895-88be26964c32",
   "metadata": {},
   "outputs": [],
   "source": [
    "model.fit(X, y_seasonal)\n",
    "test_pred_seasonal = model.predict_proba(test_data)[:, 1]"
   ]
  },
  {
   "cell_type": "code",
   "execution_count": null,
   "id": "79d49787-5aa3-4afc-962d-b62c64acdc7b",
   "metadata": {},
   "outputs": [],
   "source": [
    "submission = pd.DataFrame({\n",
    "    'respondent_id': test_features['respondent_id'],\n",
    "    'xyz_vaccine': test_pred_xyz,\n",
    "    'seasonal_vaccine': test_pred_seasonal\n",
    "})"
   ]
  },
  {
   "cell_type": "code",
   "execution_count": null,
   "id": "615884db-7e83-479a-8ce4-437640cd02d0",
   "metadata": {},
   "outputs": [],
   "source": [
    "submission.to_csv('submission.csv', index=False)"
   ]
  },
  {
   "cell_type": "code",
   "execution_count": null,
   "id": "f0e82cef-5eb7-4479-83e8-b8373609d2f2",
   "metadata": {},
   "outputs": [],
   "source": [
    "import os\n",
    "print(\"File saved in directory:\", os.getcwd())"
   ]
  }
 ],
 "metadata": {
  "kernelspec": {
   "display_name": "Python 3 (ipykernel)",
   "language": "python",
   "name": "python3"
  },
  "language_info": {
   "codemirror_mode": {
    "name": "ipython",
    "version": 3
   },
   "file_extension": ".py",
   "mimetype": "text/x-python",
   "name": "python",
   "nbconvert_exporter": "python",
   "pygments_lexer": "ipython3",
   "version": "3.12.3"
  }
 },
 "nbformat": 4,
 "nbformat_minor": 5
}
